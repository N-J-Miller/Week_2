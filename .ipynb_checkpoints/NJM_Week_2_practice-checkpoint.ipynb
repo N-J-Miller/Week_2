{
 "cells": [
  {
   "cell_type": "markdown",
   "id": "2ea211b3",
   "metadata": {},
   "source": [
    "# Week 2 In-Class Assignment"
   ]
  },
  {
   "cell_type": "code",
   "execution_count": null,
   "id": "756e34d5",
   "metadata": {},
   "outputs": [],
   "source": []
  },
  {
   "cell_type": "markdown",
   "id": "91b32c30",
   "metadata": {},
   "source": [
    "### Warm-up"
   ]
  },
  {
   "cell_type": "code",
   "execution_count": 2,
   "id": "ef332198",
   "metadata": {},
   "outputs": [
    {
     "name": "stdout",
     "output_type": "stream",
     "text": [
      "Enter a number:3\n",
      "divisible by 3\n"
     ]
    }
   ],
   "source": [
    "## In the warm-up exercise, the num input function has been explicitly\n",
    "# changed to str with typecasting, but the next function requires an\n",
    "# int data type input. Also, input() automatically outputs str,\n",
    "# so the typecasting should be explicitly changed to int, as in:\n",
    "\n",
    "num = int(input(\"Enter a number:\"))\n",
    "\n",
    "if num % 2 == 0:\n",
    "    print(\"Even\")\n",
    "elif num % 3 == 0:\n",
    "    print(\"divisible by 3\")\n",
    "else:\n",
    "    print(\"Odd\") \n",
    "    \n",
    "    "
   ]
  },
  {
   "cell_type": "markdown",
   "id": "7fa8fa5a",
   "metadata": {},
   "source": [
    "# Loops and Functions"
   ]
  },
  {
   "cell_type": "code",
   "execution_count": 1,
   "id": "d54ddf38",
   "metadata": {},
   "outputs": [
    {
     "name": "stdout",
     "output_type": "stream",
     "text": [
      "b is greater\n"
     ]
    }
   ],
   "source": [
    "# if... elif...else\n",
    "# if will always print, elif will print if \"if\" did not\n",
    "# else has no conditions after it.\n",
    "\n",
    "a = 2\n",
    "\n",
    "b = 3\n",
    "\n",
    "if a == b:\n",
    "    print(\"they are equal\")\n",
    "elif a > b:\n",
    "    print(\"a is greater\")\n",
    "elif a < b:\n",
    "    print(\"b is greater\")"
   ]
  },
  {
   "cell_type": "code",
   "execution_count": null,
   "id": "e64df25a",
   "metadata": {},
   "outputs": [],
   "source": [
    "# while loops\n",
    "#repeatedly testing an expression and continuing to run the loop\n",
    "# until a condition is met\n",
    "\n",
    "x = 7\n",
    "while x > 5:\n",
    "    print(x)\n",
    "    x = x - 1 # very useful for changing the value of the expression\n",
    "    # also x-=1"
   ]
  },
  {
   "cell_type": "code",
   "execution_count": 3,
   "id": "01983753",
   "metadata": {},
   "outputs": [
    {
     "name": "stdout",
     "output_type": "stream",
     "text": [
      "3\n",
      "4\n",
      "5\n",
      "6\n",
      "7\n",
      "8\n",
      "9\n"
     ]
    }
   ],
   "source": [
    " # Create a scenario wehre x starts at 3, and you print the value of x while x is less than 10\n",
    "    \n",
    "x = 3\n",
    "while x <10:\n",
    "    print(x)\n",
    "    x+=1"
   ]
  },
  {
   "cell_type": "markdown",
   "id": "b50b2314",
   "metadata": {},
   "source": [
    "### Range"
   ]
  },
  {
   "cell_type": "code",
   "execution_count": 2,
   "id": "f2831ab8",
   "metadata": {},
   "outputs": [
    {
     "name": "stdout",
     "output_type": "stream",
     "text": [
      "0\n",
      "2\n",
      "4\n",
      "6\n",
      "8\n"
     ]
    }
   ],
   "source": [
    "# range(start, stop [,step])\n",
    "# Start value is inclusive, Stop value is NOT\n",
    "\n",
    "for r in range(0,10,2):\n",
    "    print(r)"
   ]
  },
  {
   "cell_type": "code",
   "execution_count": 5,
   "id": "28f81858",
   "metadata": {},
   "outputs": [
    {
     "name": "stdout",
     "output_type": "stream",
     "text": [
      "Enter a number: 27\n",
      "Not Weird\n"
     ]
    }
   ],
   "source": [
    "n = int(input(\"Enter a number: \"))\n",
    "\n",
    "if (n in range(2,6)) % 2 == 0:\n",
    "    print(\"Not Weird\")    \n",
    "elif (n in range(6,21)) % 2 == 0:\n",
    "    print(\"Weird\")\n",
    "elif (n in range(22)) % 2 == 0:\n",
    "    print(\"Not Weird\")\n",
    "else:\n",
    "    print(\"Weird\")"
   ]
  },
  {
   "cell_type": "code",
   "execution_count": 1,
   "id": "aaa2ea20",
   "metadata": {},
   "outputs": [
    {
     "name": "stdout",
     "output_type": "stream",
     "text": [
      "b is greater\n"
     ]
    }
   ],
   "source": [
    "# functions\n",
    "# functions let us encapsulate chuncks of code that we might want to \n",
    "# use again\n",
    "\n",
    "def comparing(a,b):\n",
    "    if a == b:\n",
    "        print(\"they are equal\")\n",
    "    elif a > b:\n",
    "        print(\"a is greater\")\n",
    "    elif a < b:\n",
    "        print(\"b is greater\")\n",
    "        \n",
    "comparing(7,10)"
   ]
  },
  {
   "cell_type": "code",
   "execution_count": 12,
   "id": "339e9dd6",
   "metadata": {},
   "outputs": [
    {
     "name": "stdout",
     "output_type": "stream",
     "text": [
      "Enter a number: 4\n",
      "Not Weird\n"
     ]
    }
   ],
   "source": [
    "n = int(input(\"Enter a number: \"))\n",
    "if 1 <= n <= 100:\n",
    "    if n % 2 != 0:\n",
    "        print(\"Weird\")\n",
    "    elif n in range(2,6):\n",
    "        print(\"Not Weird\")    \n",
    "    elif n in range(6,21):\n",
    "        print(\"Weird\")\n",
    "    elif (n in range(2)):\n",
    "        print(\"Not Weird\")\n",
    "    "
   ]
  },
  {
   "cell_type": "code",
   "execution_count": null,
   "id": "9dbc4221",
   "metadata": {},
   "outputs": [],
   "source": []
  }
 ],
 "metadata": {
  "kernelspec": {
   "display_name": "Python 3 (ipykernel)",
   "language": "python",
   "name": "python3"
  },
  "language_info": {
   "codemirror_mode": {
    "name": "ipython",
    "version": 3
   },
   "file_extension": ".py",
   "mimetype": "text/x-python",
   "name": "python",
   "nbconvert_exporter": "python",
   "pygments_lexer": "ipython3",
   "version": "3.9.7"
  }
 },
 "nbformat": 4,
 "nbformat_minor": 5
}
