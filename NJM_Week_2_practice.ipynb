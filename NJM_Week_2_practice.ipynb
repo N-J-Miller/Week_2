{
 "cells": [
  {
   "cell_type": "markdown",
   "id": "2ea211b3",
   "metadata": {},
   "source": [
    "# Week 2 In-Class Assignment"
   ]
  },
  {
   "cell_type": "code",
   "execution_count": 18,
   "id": "756e34d5",
   "metadata": {},
   "outputs": [
    {
     "name": "stdout",
     "output_type": "stream",
     "text": [
      "Enter a number: 27\n",
      "Not Weird\n",
      "Weird\n",
      "Not Weird\n"
     ]
    }
   ],
   "source": [
    "n = int(input(\"Enter a number: \"))\n",
    "\n",
    "if (n in range(2,6)) % 2 == 0:\n",
    "    print(\"Not Weird\")\n",
    "    \n",
    "if (n in range(7,21)) % 2 == 0:\n",
    "    print(\"Weird\")\n",
    "\n",
    "if (n in range(22)) % 2 == 0:\n",
    "    print(\"Not Weird\")\n",
    "    \n",
    "else:\n",
    "    print(\"Weird\")"
   ]
  },
  {
   "cell_type": "markdown",
   "id": "91b32c30",
   "metadata": {},
   "source": [
    "### Warm-up"
   ]
  },
  {
   "cell_type": "code",
   "execution_count": 2,
   "id": "ef332198",
   "metadata": {},
   "outputs": [
    {
     "name": "stdout",
     "output_type": "stream",
     "text": [
      "Enter a number:3\n",
      "divisible by 3\n"
     ]
    }
   ],
   "source": [
    "## In the warm-up exercise, the num input function has been explicitly\n",
    "# changed to str with typecasting, but the next function requires an\n",
    "# int data type input. Also, input() automatically outputs str,\n",
    "# so the typecasting should be explicitly changed to int, as in:\n",
    "\n",
    "num = int(input(\"Enter a number:\"))\n",
    "\n",
    "if num % 2 == 0:\n",
    "    print(\"Even\")\n",
    "elif num % 3 == 0:\n",
    "    print(\"divisible by 3\")\n",
    "else:\n",
    "    print(\"Odd\") \n",
    "    \n",
    "    "
   ]
  },
  {
   "cell_type": "code",
   "execution_count": null,
   "id": "7f80132c",
   "metadata": {},
   "outputs": [],
   "source": []
  }
 ],
 "metadata": {
  "kernelspec": {
   "display_name": "Python 3 (ipykernel)",
   "language": "python",
   "name": "python3"
  },
  "language_info": {
   "codemirror_mode": {
    "name": "ipython",
    "version": 3
   },
   "file_extension": ".py",
   "mimetype": "text/x-python",
   "name": "python",
   "nbconvert_exporter": "python",
   "pygments_lexer": "ipython3",
   "version": "3.9.7"
  }
 },
 "nbformat": 4,
 "nbformat_minor": 5
}
